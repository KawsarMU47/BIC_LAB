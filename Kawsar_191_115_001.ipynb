{
  "nbformat": 4,
  "nbformat_minor": 0,
  "metadata": {
    "colab": {
      "provenance": [],
      "authorship_tag": "ABX9TyMfU5dOdHR5UpqAbE0qVkq4",
      "include_colab_link": true
    },
    "kernelspec": {
      "name": "python3",
      "display_name": "Python 3"
    },
    "language_info": {
      "name": "python"
    }
  },
  "cells": [
    {
      "cell_type": "markdown",
      "metadata": {
        "id": "view-in-github",
        "colab_type": "text"
      },
      "source": [
        "<a href=\"https://colab.research.google.com/github/KawsarMU47/BIC_LAB/blob/main/Kawsar_191_115_001.ipynb\" target=\"_parent\"><img src=\"https://colab.research.google.com/assets/colab-badge.svg\" alt=\"Open In Colab\"/></a>"
      ]
    },
    {
      "cell_type": "markdown",
      "source": [
        "**BA1A(Compute the Number of Times a Pattern Appears in a TexT)**"
      ],
      "metadata": {
        "id": "YR7RBomzcF0X"
      }
    },
    {
      "cell_type": "code",
      "execution_count": 1,
      "metadata": {
        "colab": {
          "base_uri": "https://localhost:8080/"
        },
        "id": "3HwwedqBbuJ5",
        "outputId": "941027fd-9ed5-436c-862a-35f4801b083a"
      },
      "outputs": [
        {
          "output_type": "stream",
          "name": "stdout",
          "text": [
            "GCGCG\n",
            "GCG\n",
            "2\n"
          ]
        }
      ],
      "source": [
        "def patternCount(text , pattern):\n",
        "    cnt = 0\n",
        "    for i in range(len(text)-len(pattern)+1):\n",
        "        if text[i:i+len(pattern)] == pattern:\n",
        "            cnt += 1\n",
        "    print(cnt)\n",
        "    return \n",
        "text = input()\n",
        "pattern = input()\n",
        "patternCount(text , pattern)"
      ]
    },
    {
      "cell_type": "markdown",
      "source": [
        "**BA1B (Find the Most Frequent Words in a String )**"
      ],
      "metadata": {
        "id": "80Kz5-ZCcdEZ"
      }
    },
    {
      "cell_type": "code",
      "source": [
        "def frequent_word_count(text, k):\n",
        "    word_count = {}\n",
        "    for i in range(len(text)-k+1):\n",
        "        if text[i:i+k] not in word_count:\n",
        "            word_count[text[i:i+k]] = 0\n",
        "        word_count[text[i:i+k]] += 1\n",
        "    frequent_count = max(word_count.values())\n",
        "    for k,v in word_count.items():\n",
        "        if v==frequent_count:\n",
        "           print(k, end=\" \")\n",
        "text = input()\n",
        "k = int(input())\n",
        "frequent_word_count(text, k)\n",
        "     "
      ],
      "metadata": {
        "colab": {
          "base_uri": "https://localhost:8080/"
        },
        "id": "k7UItpTpcE-7",
        "outputId": "7038eaef-fd38-405c-8061-1336cb36ec23"
      },
      "execution_count": 2,
      "outputs": [
        {
          "output_type": "stream",
          "name": "stdout",
          "text": [
            "ACGTTGCATGTCGCATGATGCATGAGAGCT\n",
            "4\n",
            "GCAT CATG "
          ]
        }
      ]
    },
    {
      "cell_type": "markdown",
      "source": [
        "**BA1C(Find the Reverse Complement of a String)**"
      ],
      "metadata": {
        "id": "OTe-N1VxcijG"
      }
    },
    {
      "cell_type": "code",
      "source": [
        "def reverse_complement(string):\n",
        "    i =0\n",
        "    string2=\"\"\n",
        "    while i < len(string):\n",
        "        if string[i]==\"A\":\n",
        "            string2 += \"T\"\n",
        "        elif string[i] ==\"T\":\n",
        "            string2 += \"A\"\n",
        "        elif string[i] ==\"C\":\n",
        "            string2 += \"G\"\n",
        "        elif string[i] ==\"G\":\n",
        "            string2 += \"C\"\n",
        "        i += 1\n",
        "    print(string2[::-1])\n",
        "    return \n",
        "     \n",
        "\n",
        "string = input()\n",
        "reverse_complement(string)"
      ],
      "metadata": {
        "colab": {
          "base_uri": "https://localhost:8080/"
        },
        "id": "scr_lrvgch4G",
        "outputId": "179560b2-b0ef-4f84-e01a-584c1d9df28c"
      },
      "execution_count": 3,
      "outputs": [
        {
          "output_type": "stream",
          "name": "stdout",
          "text": [
            "AAAACCCGGT\n",
            "ACCGGGTTTT\n"
          ]
        }
      ]
    },
    {
      "cell_type": "markdown",
      "source": [
        "**BA1D(Find All Occurrences of a Pattern in a String)**"
      ],
      "metadata": {
        "id": "8c2jIi1qc166"
      }
    },
    {
      "cell_type": "code",
      "source": [
        "def occurence(st , pt):\n",
        "    for i in range(0 , len(st)-len(pt)+1):\n",
        "        if st[i : i+len(pt)] == pt:\n",
        "            print(i ,end=' ')\n",
        "    return 0\n",
        "     \n",
        "\n",
        "st = input()\n",
        "pt = input()\n",
        "occurence(st , pt)"
      ],
      "metadata": {
        "colab": {
          "base_uri": "https://localhost:8080/"
        },
        "id": "aWUEipofc4mQ",
        "outputId": "6afa87e2-d0d5-4b68-e713-183b5149e65c"
      },
      "execution_count": 4,
      "outputs": [
        {
          "output_type": "stream",
          "name": "stdout",
          "text": [
            "GATATATGCATATACTT\n",
            "ATAT\n",
            "1 3 9 "
          ]
        },
        {
          "output_type": "execute_result",
          "data": {
            "text/plain": [
              "0"
            ]
          },
          "metadata": {},
          "execution_count": 4
        }
      ]
    },
    {
      "cell_type": "markdown",
      "source": [
        "**BA1E(Find Patterns Forming Clumps in a String )**"
      ],
      "metadata": {
        "id": "0X1wKEUGdBHm"
      }
    },
    {
      "cell_type": "code",
      "source": [
        "def clump_find(string, k, L, t):\n",
        "    res = []\n",
        "    for i in range(len(string)-L+1):\n",
        "        for j in range(i, i+L-k):\n",
        "            if string[i:i+L].count(string[j:j+k]) == t:\n",
        "                res.append(string[j:j+k])\n",
        "    res = list(set(res))\n",
        "    return res\n",
        "\n",
        "     \n",
        "\n",
        "string = input()\n",
        "k = int(input())\n",
        "L = int(input())\n",
        "t = int(input())\n",
        "print(clump_find(string, k, L, t))"
      ],
      "metadata": {
        "colab": {
          "base_uri": "https://localhost:8080/"
        },
        "id": "745uRsoMdJR-",
        "outputId": "a4b726b3-1060-4627-f0b0-30f573b7c160"
      },
      "execution_count": 5,
      "outputs": [
        {
          "output_type": "stream",
          "name": "stdout",
          "text": [
            "CGGACTCGACAGATGTGAAGAAATGTGAAGACTGAGTGAAGAGAAGAGGAAACACGACACGACATTGCGACATAATGTACGAATGTAATGTGCCTATGGC\n",
            "5\n",
            "75\n",
            "4\n",
            "['CGACA', 'AATGT', 'GAAGA']\n"
          ]
        }
      ]
    },
    {
      "cell_type": "markdown",
      "source": [
        "**ROSALIND(BA1F)Find a Position in a Genome Minimizing the Skew**"
      ],
      "metadata": {
        "id": "8xxzGDfWdUK5"
      }
    },
    {
      "cell_type": "code",
      "source": [
        "def  minimizeskw(ss):\n",
        "    skw = [0]\n",
        "    for i in range(len(ss)):\n",
        "        if ss[i] == \"G\":\n",
        "            skw.append(skw[-1]+1)\n",
        "        elif ss[i] == \"C\":\n",
        "            skw.append(skw[-1]-1)\n",
        "        else:\n",
        "            skw.append(skw[-1])\n",
        "    mini = min(skw)\n",
        "    for i in range(len(skw)):\n",
        "        if skw[i] == mini:\n",
        "            print(i,end=' ')\n",
        "    print()\n",
        "    return\n",
        "    \n",
        "     \n",
        "\n",
        "ss =input()\n",
        "minimizeskw(ss)\n",
        "     "
      ],
      "metadata": {
        "colab": {
          "base_uri": "https://localhost:8080/"
        },
        "id": "FDCIRUfydWLJ",
        "outputId": "b02dd66e-ff19-4b9d-a2d4-0f6e78f8c933"
      },
      "execution_count": 6,
      "outputs": [
        {
          "output_type": "stream",
          "name": "stdout",
          "text": [
            "CCTATCGGTGGATTAGCATGTCCCTGTACGTTTCGCCGCGAACTAGTTCACACGGCTTGATGGCAAATGGTTTTTCCGGCGACCGTAATCGTCCACCGAG\n",
            "53 97 \n"
          ]
        }
      ]
    },
    {
      "cell_type": "markdown",
      "source": [
        "**ROSALIND-(BA1G)Compute the Hamming Distance Between Two Strings**\n"
      ],
      "metadata": {
        "id": "hlXv__B_de0j"
      }
    },
    {
      "cell_type": "code",
      "source": [
        "def hmDistance(st1,st2):\n",
        "    count = 0\n",
        "    for i in range(len(st2)):\n",
        "        if st2[i] != st1[i]:\n",
        "            count += 1\n",
        "    print(count)\n",
        "    return\n",
        "\n",
        "     \n",
        "\n",
        "st1 = input()\n",
        "st2 = input()\n",
        "hmDistance(st1,st2)"
      ],
      "metadata": {
        "colab": {
          "base_uri": "https://localhost:8080/"
        },
        "id": "22oSmz3cdqld",
        "outputId": "13f2e801-89b3-4543-bc60-93e7acb27b83"
      },
      "execution_count": 7,
      "outputs": [
        {
          "output_type": "stream",
          "name": "stdout",
          "text": [
            "GGGCCGTTGGT\n",
            "GGACCGTTGAC\n",
            "3\n"
          ]
        }
      ]
    },
    {
      "cell_type": "markdown",
      "source": [
        "**ROSALIND-(BA1H)Find All Approximate Occurrences of a Pattern in a String**"
      ],
      "metadata": {
        "id": "BsvSdLJHdzlB"
      }
    },
    {
      "cell_type": "code",
      "source": [
        "def mismatch(pattern,string , d):\n",
        "    for i in range(len(string)-len(pattern) + 1):\n",
        "        string2 = string[i:i+len(pattern)]\n",
        "        mismatch = 0\n",
        "        for j in range(len(pattern)):\n",
        "            if pattern[j] != string2[j]:\n",
        "                mismatch +=1\n",
        "        if mismatch<=d:\n",
        "            print(i , end=' ')\n",
        "     \n",
        "\n",
        "pattern = input()\n",
        "string = input()\n",
        "d = int(input())\n",
        "mismatch(pattern,string , d)"
      ],
      "metadata": {
        "colab": {
          "base_uri": "https://localhost:8080/"
        },
        "id": "4wN6IVJ6d1yV",
        "outputId": "4aa33222-bf01-429a-9fea-6b9448a9cc03"
      },
      "execution_count": 8,
      "outputs": [
        {
          "output_type": "stream",
          "name": "stdout",
          "text": [
            "ATTCTGGA\n",
            "CGCCCGAATCCAGAACGCATTCCCATATTTCGGGACCACTGGCCTCCACGGTACGGACGTCAATCAAATGCCTAGCGGCTTGTGGTTTCTCCTACGCTCC\n",
            "3\n",
            "6 7 26 27 78 "
          ]
        }
      ]
    },
    {
      "cell_type": "markdown",
      "source": [
        "**LAB-Final Set--B**"
      ],
      "metadata": {
        "id": "w8A8IYUohny2"
      }
    },
    {
      "cell_type": "code",
      "source": [
        "def mismatchF(pattern,text,d):\n",
        "  i=0\n",
        "  string=\"\"\n",
        "  while i<len(pattern):\n",
        "    if(pattern[i]==\"A\"):\n",
        "      string+=\"T\"     \n",
        "    elif(pattern[i]==\"T\"):\n",
        "      string+=\"A\"\n",
        "    elif(pattern[i]==\"G\"):\n",
        "      string+=\"C\"\n",
        "    elif(pattern[i]==\"C\"):\n",
        "      string+=\"G\"\n",
        "    i+=1\n",
        "  for  i in range(len(text)-len(string)+1):\n",
        "    string2=text[i:i+len(string)]\n",
        "    mismatch=0\n",
        "    for j in range(len(string)):\n",
        "      string[j]!=string2[j]\n",
        "      mismatch+=1\n",
        "      if(mismatch ==d):\n",
        "        print(string)\n",
        "      elif (mismatch!=d):\n",
        "        print(\"Hailey is unable to solve the riddle\")\n",
        "      return\n",
        "\n",
        "pattern1=input()\n",
        "pattern=pattern1.upper()\n",
        "text=input()\n",
        "d=int(input())\n",
        "mismatchF(pattern,text,d)\n",
        "\n",
        "\n",
        "  "
      ],
      "metadata": {
        "colab": {
          "base_uri": "https://localhost:8080/"
        },
        "id": "C0YCUKMChta-",
        "outputId": "9e97e18d-abc8-4f55-efcf-1807f556af90"
      },
      "execution_count": 16,
      "outputs": [
        {
          "output_type": "stream",
          "name": "stdout",
          "text": [
            "atg\n",
            "atcccctga\n",
            "2\n",
            "Hailey is unable to solve the riddle\n"
          ]
        }
      ]
    }
  ]
}